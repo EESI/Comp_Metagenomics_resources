{
 "metadata": {
  "name": "",
  "signature": "sha256:1d8506179e600c70533056b09f83dda10a05e22cb39f53e80b65e19731ce308e"
 },
 "nbformat": 3,
 "nbformat_minor": 0,
 "worksheets": [
  {
   "cells": [
    {
     "cell_type": "markdown",
     "metadata": {},
     "source": [
      "# Purpose of this tutorial \n",
      "\n",
      "Teach you some Bash!\n",
      "\n",
      "You will need the following programs to use this code: \n",
      "* a commandline with `Bash`\n",
      "* (optional) [Git](http://git-scm.com/)\n",
      "* (optional) [IPython](http://ipython.org/)\n",
      "\n",
      "## A little bit about `Bash`\n",
      "\n",
      "See Wikipedia's entry. `http://en.wikipedia.org/wiki/Bash_(Unix_shell)`.\n",
      "\n",
      "## Getting more help\n",
      "\n",
      "\n",
      "There is certainly not shortage of tutorials for `Bash` and writing scripts. In fact, Google is going to be one of your best friends when it comes to debugging errors and other issues with `Bash`. Remember, someone else probably had the problem before you and already posted the solution. Remember this before you email your course instructor or TA. Below you will find a list of online `Bash` tutorials that you may find useful: \n",
      "\n",
      "* IBM\u2019s Bash By Example ([Part 1](http://www.ibm.com/developerworks/library/l-bash/)) ([Part 2](http://www.ibm.com/developerworks/linux/library/l-bash2/index.html)) ([Part 3](http://www.ibm.com/developerworks/library/l-bash3/index.html)) \n",
      "* [Bash for Beginners](http://www.tldp.org/LDP/Bash-Beginners-Guide/html/)\n",
      "* [Sed Tutorial](http://www.catonmat.net/blog/worlds-best-introduction-to-sed/)\n",
      "* [Grep by Example](http://www.thegeekstuff.com/2009/03/15-practical-unix-grep-command-examples/)\n",
      "\n",
      "## How to read this tutorial \n",
      "\n",
      "We are going to assume that you are ssh\u2019d into `proteus` and working out of the course's [GitHub repo](https://github.com/gditzler/bio-course-materials).  We will keep this repo update as the course goes on, bugs are found, and general improvements are made. If you have not already, clone the repo to your local folder. This can be done by running: \n",
      "```bash \n",
      "git clone https://github.com/gditzler/bio-course-materials.git\n",
      "```\n",
      "which will create a `clone` of the repo in the folder where the command was called. From time to time you may feel the need to update the repo with the staff's latest changes. To do this, run: \n",
      "```bash \n",
      "git reset --hard\n",
      "git pull origin master\n",
      "```\n",
      "in the directory where you cloned the repo. Note that if you have been modifying the files in the repo, you'll encounter merge conflicts. Using `git reset --hard` will erase any changes that you have made. Therefore, it is recommend that you either: (i) copy the files you wish to experiment with to a new file before modifying them, or (ii) be aware that your changes will be erased whenever you reset the master branch. If you prefer to use IPython in our examples, run:\n",
      "```bash \n",
      "ipython notebook --pylab inline \n",
      "```\n",
      "\n",
      "# Basic `Bash` commands and concepts\n",
      "\n",
      "Below you will find a list of common commands using in `Bash` programming. While these commands are rather simple, we can manipulate them and use them with slightly more powerful commands to build complex expression with relatively few lines of code. Ignore the `:` character when calling these commands."
     ]
    },
    {
     "cell_type": "code",
     "collapsed": false,
     "input": [
      "# cd <some path> : change directory  \n",
      "# cp <file a> <file b> : copy `file a` to `file b`. note that `file a` still remains.\n",
      "# mv <file a> <file b> : move `file a` to `file b`\n",
      "# ls : list the conents of a directory \n",
      "# cat <file a> : print the contents of `file a`\n",
      "# cat <file a> <file b> ... : concatenate the contents of files `file a` `file b` ...\n",
      "# echo \"Hello World!\" : basic hello world program \n",
      "# head -M <file a> : print the first M lines of `file a`\n",
      "# tail -M <file a> : print the last M lines of `file a`\n",
      "# wget <web address> : download a file from a web address \n",
      "# mkdir <directory> : create a new directory \n",
      "# touch <file a> : create an empty file\n",
      "# rm <file> : remove a file (cannot be undone)\n",
      "# rm -Rf <folder> : remove a folder and all of its contents (cannot be undone)\n",
      "# find <folder> : print the files in the directory and all of its sub-directorys \n",
      "# This is a comment! "
     ],
     "language": "python",
     "metadata": {},
     "outputs": [],
     "prompt_number": 1
    },
    {
     "cell_type": "markdown",
     "metadata": {},
     "source": [
      "\n",
      "\n",
      "Be extremely cautious when you are using the `rm` command as its action *cannot* be undone. This is not like placing an item in the trash bin on your desktop. Once you `rm` a file of folder you can never get it back. *You have been warned*!\n",
      "\n",
      "Its important to note that you can always get help with a command by viewing its `man page` (`man` is short for manual). While, the `man` page can be helpful, [Google](https://www.google.com/) is perhaps even more helpful! As is the tradition of shell scripting, asking for helps seem to lead to [RTFM](http://en.wikipedia.org/wiki/RTFM)!  "
     ]
    },
    {
     "cell_type": "code",
     "collapsed": false,
     "input": [
      "%%bash \n",
      "man echo # prints out a little weird! "
     ],
     "language": "python",
     "metadata": {},
     "outputs": [
      {
       "output_type": "stream",
       "stream": "stdout",
       "text": [
        "\n",
        "ECHO(1)                   BSD General Commands Manual                  ECHO(1)\n",
        "\n",
        "N\bNA\bAM\bME\bE\n",
        "     e\bec\bch\bho\bo -- write arguments to the standard output\n",
        "\n",
        "S\bSY\bYN\bNO\bOP\bPS\bSI\bIS\bS\n",
        "     e\bec\bch\bho\bo [-\b-n\bn] [_\bs_\bt_\br_\bi_\bn_\bg _\b._\b._\b.]\n",
        "\n",
        "D\bDE\bES\bSC\bCR\bRI\bIP\bPT\bTI\bIO\bON\bN\n",
        "     The e\bec\bch\bho\bo utility writes any specified operands, separated by single\n",
        "     blank (` ') characters and followed by a newline (`\\n') character, to\n",
        "     the standard output.\n",
        "\n",
        "     The following option is available:\n",
        "\n",
        "     -\b-n\bn    Do not print the trailing newline character.  This may also be\n",
        "           achieved by appending `\\c' to the end of the string, as is done\n",
        "           by iBCS2 compatible systems.  Note that this option as well as\n",
        "           the effect of `\\c' are implementation-defined in IEEE Std\n",
        "           1003.1-2001 (``POSIX.1'') as amended by Cor. 1-2002.  Applica-\n",
        "           tions aiming for maximum portability are strongly encouraged to\n",
        "           use printf(1) to suppress the newline character.\n",
        "\n",
        "     Some shells may provide a builtin e\bec\bch\bho\bo command which is similar or\n",
        "     identical to this utility.  Most notably, the builtin e\bec\bch\bho\bo in sh(1)\n",
        "     does not accept the -\b-n\bn option.  Consult the builtin(1) manual page.\n",
        "\n",
        "E\bEX\bXI\bIT\bT S\bST\bTA\bAT\bTU\bUS\bS\n",
        "     The e\bec\bch\bho\bo utility exits 0 on success, and >0 if an error occurs.\n",
        "\n",
        "S\bSE\bEE\bE A\bAL\bLS\bSO\bO\n",
        "     builtin(1), csh(1), printf(1), sh(1)\n",
        "\n",
        "S\bST\bTA\bAN\bND\bDA\bAR\bRD\bDS\bS\n",
        "     The e\bec\bch\bho\bo utility conforms to IEEE Std 1003.1-2001 (``POSIX.1'') as\n",
        "     amended by Cor. 1-2002.\n",
        "\n",
        "BSD                             April 12, 2003                             BSD\n"
       ]
      }
     ],
     "prompt_number": 2
    },
    {
     "cell_type": "markdown",
     "metadata": {},
     "source": [
      "I have placed a very basic file tab delimited file in the `data/` folder. Lets use some of the above `Bash` commands to pick the file a part. Since I am working in IPython, I need to add `%%bash` to the begining of all my lines. You can ignore them. "
     ]
    },
    {
     "cell_type": "code",
     "collapsed": false,
     "input": [
      "%%bash\n",
      "ls -l ../data/ # list the ../data/ directory\n",
      "# note `..` tells us to look back a directory. the -l is a flag that specifies ls to print the output in a list\n",
      "\n",
      "echo \" \" \n",
      "echo \"Lets look at the files in this directory\"\n",
      "ls"
     ],
     "language": "python",
     "metadata": {},
     "outputs": [
      {
       "output_type": "stream",
       "stream": "stdout",
       "text": [
        "total 2776\n",
        "-rw-r--r--@ 1 gditzler  staff  1000571 Jul 29 12:37 american-gut-mf.txt\n",
        "-rw-r--r--  1 gditzler  staff       82 Jul 29 12:55 eesi-names-mycopy.txt\n",
        "-rw-r--r--  1 gditzler  staff       81 Sep 17 09:58 eesi-names.txt\n",
        "-rw-r-----@ 1 gditzler  staff    76480 Sep  2 10:02 ls_orchid.fasta\n",
        "-rw-r-----@ 1 gditzler  staff     2519 Sep  8 15:08 ls_orchid.gbk\n",
        "-rw-r-----@ 1 gditzler  staff   235482 Sep  8 15:09 ls_orchid_full.gbk\n",
        "-rw-r--r--  1 gditzler  staff    74389 Sep  8 20:28 my_example.fasta\n",
        "-rw-r--r--  1 gditzler  staff     3167 Sep  8 20:28 my_seqs.fa\n",
        "-rw-r--r--  1 gditzler  staff       10 Jul 29 12:55 second-to-last-user.txt\n",
        "-rw-r--r--  1 gditzler  staff       25 Sep  8 14:22 simple.dnd\n",
        " \n",
        "Lets look at the files in this directory\n",
        "Bash-Tutorial.ipynb\n",
        "BioPython-Tutorial.ipynb\n",
        "README.md\n"
       ]
      }
     ],
     "prompt_number": 3
    },
    {
     "cell_type": "markdown",
     "metadata": {},
     "source": [
      "Lets perform the following tasks now that we know the location of the `eesi-names.txt` file.\n",
      "* print the first line of `eesi-names.txt`\n",
      "* print the last two lines of `eesi-names.txt`\n",
      "* print out three times the contents of `eesi-names.txt`\n",
      "* copy the `eesi-names.txt` to `eesi-names-mycopy.txt`"
     ]
    },
    {
     "cell_type": "code",
     "collapsed": false,
     "input": [
      "%%bash \n",
      "head -1 ../data/eesi-names.txt"
     ],
     "language": "python",
     "metadata": {},
     "outputs": [
      {
       "output_type": "stream",
       "stream": "stdout",
       "text": [
        "First Last\n"
       ]
      }
     ],
     "prompt_number": 4
    },
    {
     "cell_type": "code",
     "collapsed": false,
     "input": [
      "%%bash\n",
      "tail -2 ../data/eesi-names.txt"
     ],
     "language": "python",
     "metadata": {},
     "outputs": [
      {
       "output_type": "stream",
       "stream": "stdout",
       "text": [
        "Yemin Lan\n",
        "Steve Pastor\n"
       ]
      }
     ],
     "prompt_number": 5
    },
    {
     "cell_type": "code",
     "collapsed": false,
     "input": [
      "%%bash\n",
      "cat ../data/eesi-names.txt ../data/eesi-names.txt ../data/eesi-names.txt"
     ],
     "language": "python",
     "metadata": {},
     "outputs": [
      {
       "output_type": "stream",
       "stream": "stdout",
       "text": [
        "First Last\n",
        "Gail  Rosen\n",
        "Gregory Ditzler\n",
        "Erin Reichenberger\n",
        "Yemin Lan\n",
        "Steve Pastor\n",
        "First Last\n",
        "Gail  Rosen\n",
        "Gregory Ditzler\n",
        "Erin Reichenberger\n",
        "Yemin Lan\n",
        "Steve Pastor\n",
        "First Last\n",
        "Gail  Rosen\n",
        "Gregory Ditzler\n",
        "Erin Reichenberger\n",
        "Yemin Lan\n",
        "Steve Pastor\n"
       ]
      }
     ],
     "prompt_number": 6
    },
    {
     "cell_type": "code",
     "collapsed": false,
     "input": [
      "%%bash \n",
      "cp ../data/eesi-names.txt ../data/eesi-names-mycopy.txt\n",
      "# check to make sure its there\n",
      "ls -l ../data/"
     ],
     "language": "python",
     "metadata": {},
     "outputs": [
      {
       "output_type": "stream",
       "stream": "stdout",
       "text": [
        "total 2776\n",
        "-rw-r--r--@ 1 gditzler  staff  1000571 Jul 29 12:37 american-gut-mf.txt\n",
        "-rw-r--r--  1 gditzler  staff       81 Sep 17 10:05 eesi-names-mycopy.txt\n",
        "-rw-r--r--  1 gditzler  staff       81 Sep 17 09:58 eesi-names.txt\n",
        "-rw-r-----@ 1 gditzler  staff    76480 Sep  2 10:02 ls_orchid.fasta\n",
        "-rw-r-----@ 1 gditzler  staff     2519 Sep  8 15:08 ls_orchid.gbk\n",
        "-rw-r-----@ 1 gditzler  staff   235482 Sep  8 15:09 ls_orchid_full.gbk\n",
        "-rw-r--r--  1 gditzler  staff    74389 Sep  8 20:28 my_example.fasta\n",
        "-rw-r--r--  1 gditzler  staff     3167 Sep  8 20:28 my_seqs.fa\n",
        "-rw-r--r--  1 gditzler  staff       10 Jul 29 12:55 second-to-last-user.txt\n",
        "-rw-r--r--  1 gditzler  staff       25 Sep  8 14:22 simple.dnd\n"
       ]
      }
     ],
     "prompt_number": 7
    },
    {
     "cell_type": "markdown",
     "metadata": {},
     "source": [
      "# Variables & Programming Structures\n",
      "\n",
      "Just as with any other programming langauges, `Bash` has variables. Some can be scalars, strings or arrays. In this section we go over some basic types and how we can manipulate them. We are going to define our variables just as we would with any other programming langauge; however, when we access them we need to place `$` in front of the name. For example,  "
     ]
    },
    {
     "cell_type": "code",
     "collapsed": false,
     "input": [
      "%%bash \n",
      "my_var=Greg\n",
      "echo \"Hello $my_var\"\n",
      "n=1\n",
      "echo $(($n+1))"
     ],
     "language": "python",
     "metadata": {},
     "outputs": [
      {
       "output_type": "stream",
       "stream": "stdout",
       "text": [
        "Hello Greg\n",
        "2\n"
       ]
      }
     ],
     "prompt_number": 8
    },
    {
     "cell_type": "markdown",
     "metadata": {},
     "source": [
      "\n",
      "In this section, we are going to take care of a couple of topics (arrays, for loops and if statements). Something to keep in mind about bash is that it is very picky when it comes to whitespace. Sometimes it matters and sometimes it doesn\u2019t! This section will bring up some of the times when it is going to matter. \n",
      "\n",
      "First, let use define an array by using the parenthesis and separating each of the entries with a space. All of the objects in our array are of the same *type* in that there is nothing special about them. In general, curly brackets in `Bash` are used to group things together and the square brackets are used to index something.  We can use the `@` symbol as an index to list all of the entries out, which we are going to need for the `for` loop. As shown below the `for` is pretty boiler plate compared to other scripting langauges; however the `if` statement is a bit different. Notice that there is whitespace padded inside of the square brackets. Removing this space *will* produce an error. This is one of those times where whitespace makes a difference. Furthermore, the test for equality is performed using a single `=` symbol, which is different than most other programming languages. Refer to [this website](http://www.tldp.org/LDP/Bash-Beginners-Guide/html/sect_07_01.html) for many examples of using conditional statements with `Bash`.\n"
     ]
    },
    {
     "cell_type": "code",
     "collapsed": false,
     "input": [
      "%%bash\n",
      "names=( Gail Yemin Greg Cricket Steve )\n",
      "echo \"The entry in position 1 is ${names[1]}\"\n",
      "for name in ${names[@]}; do \n",
      "  echo $name\n",
      "  if [ \"$name\" = \"Greg\" ]; then \n",
      "    echo \"${name}ory\"\n",
      "  fi\n",
      "done\n",
      "echo ${names[@]}"
     ],
     "language": "python",
     "metadata": {},
     "outputs": [
      {
       "output_type": "stream",
       "stream": "stdout",
       "text": [
        "The entry in position 1 is Yemin\n",
        "Gail\n",
        "Yemin\n",
        "Greg\n",
        "Gregory\n",
        "Cricket\n",
        "Steve\n",
        "Gail Yemin Greg Cricket Steve\n"
       ]
      }
     ],
     "prompt_number": 9
    },
    {
     "cell_type": "markdown",
     "metadata": {},
     "source": [
      "# Pipes and Redirects \n",
      "\n",
      "Pipes allow us to take the output of one program and feed them into the input of another program. While this concept is very simple, it will allow us to build very complex expressions. Lets us just do an example to see how this works. A pipe is given by \"`|`\". Lets say that we want to print out the second to last name in `eesi-names.txt`. We know that `head` prints out the header of a file and `tail` will print out the end of a file. We can use `tail` to print out the last two names then `head` to take the output from tail to get the second to last name. In code this is given by "
     ]
    },
    {
     "cell_type": "code",
     "collapsed": false,
     "input": [
      "%%bash \n",
      "cat ../data/eesi-names.txt | tail -2 | head -1"
     ],
     "language": "python",
     "metadata": {},
     "outputs": [
      {
       "output_type": "stream",
       "stream": "stdout",
       "text": [
        "Yemin Lan\n"
       ]
      }
     ],
     "prompt_number": 10
    },
    {
     "cell_type": "markdown",
     "metadata": {},
     "source": [
      "Let us finish this example by using a redirect. Redirects allow us to *redirect* the std output to a file. That is, dump what is being printed out to a file rather than printing it out to the user. Let us redirect the second to last EESI name to a file. Note there are other, more clever ways to use redirects, however, we are only covering one usage. "
     ]
    },
    {
     "cell_type": "code",
     "collapsed": false,
     "input": [
      "%%bash \n",
      "cat ../data/eesi-names.txt | tail -2 | head -1 > ../data/second-to-last-user.txt\n",
      "cat ../data/second-to-last-user.txt"
     ],
     "language": "python",
     "metadata": {},
     "outputs": [
      {
       "output_type": "stream",
       "stream": "stdout",
       "text": [
        "Yemin Lan\n"
       ]
      }
     ],
     "prompt_number": 11
    },
    {
     "cell_type": "markdown",
     "metadata": {},
     "source": [
      "# Basics of regular expressions\n",
      "\n",
      "In this section, we are going to look at a couple of commands that use [regular expressions](http://xkcd.com/1171/), or regex for short. The first command we want to look at is `grep`. The `grep` utility searches any given input files, selecting lines that match one or more patterns. We can do many more operation with `grep`; however, just printing out certian lines of a file is powerful enough own its own because it can lead to further manipulation. Lets come back to `eesi-names.txt` and print out only the lines at start with the pattern `G` ('^' is used to denote the start of a line in the expression -- `$` is used for the end of a line)."
     ]
    },
    {
     "cell_type": "code",
     "collapsed": false,
     "input": [
      "%%bash\n",
      "cat ../data/eesi-names.txt | grep '^G'\n",
      "echo \" \"\n",
      "cat ../data/eesi-names.txt | grep 'Yemin'"
     ],
     "language": "python",
     "metadata": {},
     "outputs": [
      {
       "output_type": "stream",
       "stream": "stdout",
       "text": [
        "Gail  Rosen\n",
        "Gregory Ditzler\n",
        " \n",
        "Yemin Lan\n"
       ]
      }
     ],
     "prompt_number": 12
    },
    {
     "cell_type": "markdown",
     "metadata": {},
     "source": [
      "The final regex tool we are going to look at is [`sed`](http://www.grymoire.com/unix/sed.html). This is a very powerful tool, however, we are only going to be interested in find/replace functionality. The way this works is we are going to give `sed` an expression telling it the pattern we want to search for and the pattern that we want to repace it with. For example, lets find any occurance of `Gregory` and replace it with `Greg` in `eesi-names.txt`. Have a close look at how we are calling `sed` in the example below."
     ]
    },
    {
     "cell_type": "code",
     "collapsed": false,
     "input": [
      "%%bash \n",
      "cat ../data/eesi-names.txt | sed -e 's/Gregory/Greg/g'\n",
      "\n",
      "echo \" \"\n",
      "# we can also group things and replace them. see if you can tell whats going on here\n",
      "cat ../data/eesi-names.txt  | sed -e 's/\\(^G[a-z]*\\)/\\1 MIDDLE /g'"
     ],
     "language": "python",
     "metadata": {},
     "outputs": [
      {
       "output_type": "stream",
       "stream": "stdout",
       "text": [
        "First Last\n",
        "Gail  Rosen\n",
        "Greg Ditzler\n",
        "Erin Reichenberger\n",
        "Yemin Lan\n",
        "Steve Pastor\n",
        " \n",
        "First Last\n",
        "Gail MIDDLE   Rosen\n",
        "Gregory MIDDLE  Ditzler\n",
        "Erin Reichenberger\n",
        "Yemin Lan\n",
        "Steve Pastor\n"
       ]
      }
     ],
     "prompt_number": 13
    },
    {
     "cell_type": "markdown",
     "metadata": {},
     "source": [
      "# Editing files \n",
      "\n",
      "There are several flavors of text editors for the shell. Some are: \n",
      "* [Vim](http://www.vim.org/)\n",
      "* [Emacs](http://www.gnu.org/software/emacs/)\n",
      "* [Nano](http://www.nano-editor.org/)\n",
      "* [Sublime Text](http://www.sublimetext.com/) - Recommended!\n",
      "\n",
      "If you are interested in looking through a file but not editing it, I would recommend using `less` or `more`.\n"
     ]
    },
    {
     "cell_type": "markdown",
     "metadata": {},
     "source": [
      "# Example: Downloading photos from an HTML file\n",
      "\n",
      "Lets say I need to download some photos from a website, and I am far too lazy to right click on every photo and save it to my computer. I am, however, stubborn enough to write some `Bash` code to parse and html file and download the photos without needing to right click a single image! In this example, we are going to download all of the photos from [Dr. Rosen's EESI webpage](http://www.ece.drexel.edu/gailr/EESI/people.php) and, surprisingly, given the few simple commands we have learned, can be achieved with just a few lines of code.\n",
      "\n",
      "This problem is actually *very* easy to accomplish with `Bash`. First of all, lets think about the logicial steps that need to be accomplished and how we can use these basic commands to achieve this task. \n",
      "* *Download the raw `PHP` file*. This is really the first step and you have already been given the web address! The file can be downloaded with `wget` and after looking through the file, we find that the image location is specified with `scr=<path to the file>`. `Bash` tools: `wget`.\n",
      "* *Find the links to the images*. Well, we already know where they are as per the `src=` being found in `PHP` line. However, `src` need not just include images, it could include JavaScript. Therefore, we only need the line with the `jpg` file extension. The links to the images should be saved into an array. `Bash` tools: `cat`, `grep`, and `sed`.\n",
      "* *Download the images*. Self-explanatory!  `Bash` tools: `wget`.\n",
      "\n",
      "Then 3 (actual) lines of code later!"
     ]
    },
    {
     "cell_type": "code",
     "collapsed": false,
     "input": [
      "%%bash \n",
      "# rm *.jpg\n",
      "# rm people.php*\n",
      "web_home=http://www.ece.drexel.edu/gailr/EESI\n",
      "wget -q ${web_home}/people.php\n",
      "image_array=$(cat people.php | grep -E \"src=.*jpg\" | sed -e \"s/.*src=\\\"\\(.*\\.jpg\\)\\\".*/\\1/g\")\n",
      "\n",
      "for image in ${image_array}; do \n",
      "  wget -q $web_home/$image\n",
      "done"
     ],
     "language": "python",
     "metadata": {},
     "outputs": [],
     "prompt_number": 14
    },
    {
     "cell_type": "markdown",
     "metadata": {},
     "source": [
      "# Example: Need a bioinformatics example"
     ]
    },
    {
     "cell_type": "markdown",
     "metadata": {},
     "source": [
      "Ideas\n",
      "\n",
      "* examine a qiime map file\n",
      "* clean up a blast output\n",
      "* ...."
     ]
    },
    {
     "cell_type": "markdown",
     "metadata": {},
     "source": [
      "# Writing simple `Bash` scripts\n",
      "\n",
      "\n",
      "Writing a Bash script is relatively easy one we know the commands. In fact, its much like writing a script in any other language, such as Matlab. There are a few subtle differences from Matlab though. First, we can pass in any arbitrary number of arguments and access them which `$1`, `$2`, ..., where `$1` is the first argument, `$2` is the second argument, etc. Second, we should stick with a convention with our file names. Therefore, we will use `sh` to denote that the script is a shell script. Finally, we are going to add `#!/usr/bin/env bash` to the top of every file. This will tell the interpreter that the script is a `Bash` shell script as opposed to being a Python or Awk script. Here is an example of a very simple script:  \n"
     ]
    },
    {
     "cell_type": "code",
     "collapsed": false,
     "input": [
      "%%bash \n",
      "cat ../examples/bash-script.sh"
     ],
     "language": "python",
     "metadata": {},
     "outputs": [
      {
       "output_type": "stream",
       "stream": "stdout",
       "text": [
        "#!/usr/bin/env bash \n",
        "\n",
        "# this is a basic bash script\n",
        "f_name=$1 # get the first argument \n",
        "l_name=$2 # get the second argument \n",
        "echo \"Hello $f_name $l_name\"\n"
       ]
      }
     ],
     "prompt_number": 15
    },
    {
     "cell_type": "markdown",
     "metadata": {},
     "source": [
      "To run the script, call `sh` and the name of the script with any arguments. "
     ]
    },
    {
     "cell_type": "code",
     "collapsed": false,
     "input": [
      "%%bash \n",
      "sh ../examples/bash-script.sh Greg Ditzler"
     ],
     "language": "python",
     "metadata": {},
     "outputs": [
      {
       "output_type": "stream",
       "stream": "stdout",
       "text": [
        "Hello Greg Ditzler\n"
       ]
      }
     ],
     "prompt_number": 16
    }
   ],
   "metadata": {}
  }
 ]
}