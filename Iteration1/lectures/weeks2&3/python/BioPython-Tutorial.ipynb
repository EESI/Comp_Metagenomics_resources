{
 "metadata": {
  "name": "",
  "signature": "sha256:c286f1b4b00d6b63a0c71b78bd3888b8a96e535186518cd539ad3c56826d034e"
 },
 "nbformat": 3,
 "nbformat_minor": 0,
 "worksheets": [
  {
   "cells": [
    {
     "cell_type": "markdown",
     "metadata": {},
     "source": [
      "# What is BioPython \n",
      "\n",
      "[BioPython](http://biopython.org/wiki/Main_Page) is a set of free Python modules for working with genomic data, as well as other tools that are commonly used for sequence analysis, such as [BLAST](http://blast.ncbi.nlm.nih.gov/Blast.cgi) and [Clustalw](http://www.ebi.ac.uk/Tools/msa/clustalw2/). Or as the BioPython developers put it \n",
      "\n",
      ">Basically, the goal of Biopython is to make it as easy as possible to use Python for bioinformatics by creating high-quality, reusable modules and classes. Biopython features include parsers for various Bioinformatics file formats (BLAST, Clustalw, FASTA, Genbank,...), access to online services (NCBI, Expasy,...), interfaces to common and not-so-common programs (Clustalw, DSSP, MSMS...), a standard sequence class, various clustering modules, a KD tree data structure etc. and even documentation. \n",
      "\n",
      "In terms of getting help, BioPython has a very large [cookbook](http://biopython.org/DIST/docs/tutorial/Tutorial.html) full of examples, and as always, [Google](http://google.com) is your best friend. This *very* brief tutorial covers some of the basic bioinformatics tools that will be useful throughout the course. \n",
      "\n",
      "\n",
      "## BioPython and Support from External Tools\n",
      "\n",
      "Biopython includes support for interfacing with or parsing the output from a number of third party command line tools. These tools are not required to install Biopython, but may be of interest. This includes:\n",
      "\n",
      "* NCBI Standalone BLAST, which can used with the Bio.Blast module and parsed with the Bio.SearchIO module.\n",
      "* EMBOSS tools, which can be invoked using the Bio.Emboss module. The Bio.AlignIO module can also parse some alignment formats output by the EMBOSS suite.\n",
      "* ClustalW, which can be parsed using Bio.AlignIO and invoked using the Bio.Align.Applications module.\n",
      "* SIMCOAL2 and FDist tools for population genetics can be used via the Bio.PopGen module.\n",
      "* Bill Pearson\u2019s FASTA tools output can be parsed using the Bio.AlignIO and Bio.SearchIO module.\n",
      "* Wise2 includes the useful tool dnal.\n",
      "\n",
      "See also the listing on http://biopython.org/wiki/Download which should include URLs for these tools, and may also be more up to date.\n",
      "\n",
      "If everything has been installed correctly, you should be able to import the module and print out the version that you have installed. Note that I am using version 1.64 and I cannot guarantee that the code below will work with different versions of BioPython. "
     ]
    },
    {
     "cell_type": "code",
     "collapsed": false,
     "input": [
      "import Bio as bio\n",
      "print \"BioPython Version: \"+str(bio.__version__)"
     ],
     "language": "python",
     "metadata": {},
     "outputs": [
      {
       "output_type": "stream",
       "stream": "stdout",
       "text": [
        "BioPython Version: 1.64\n"
       ]
      }
     ],
     "prompt_number": 1
    },
    {
     "cell_type": "markdown",
     "metadata": {},
     "source": [
      "# Getting Started with Python\n",
      "\n",
      "If you are new, or uncomfortable with Python, you are encouraged to watch the videos below. \n",
      "\n",
      "<a href=\"https://www.youtube.com/watch?v=tKTZoB2Vjuk\n",
      "\" target=\"_blank\"><img src=\"https://i.ytimg.com/vi_webp/tKTZoB2Vjuk/mqdefault.webp\" \n",
      "alt=\"IMAGE ALT TEXT HERE\" width=\"240\" height=\"180\" border=\"10\" /></a>\n",
      "\n",
      "<a href=\"https://www.youtube.com/watch?v=EPYupizJYQI\n",
      "\" target=\"_blank\"><img src=\"https://i.ytimg.com/vi_webp/EPYupizJYQI/mqdefault.webp\" \n",
      "alt=\"IMAGE ALT TEXT HERE\" width=\"240\" height=\"180\" border=\"10\" /></a>"
     ]
    },
    {
     "cell_type": "markdown",
     "metadata": {},
     "source": [
      "# Basic Sequence Tools\n",
      "\n",
      "Sequences in bioinformatics can simply be interpreted as being strings. BioPython represents sequences with the `Seq` object, which contains properties beyond that of a simple string object. For example, the *Alphabet* of the sequence can be specified (and also obtained). More about the `Seq` class can be found on BioPython's [API](http://biopython.org/DIST/docs/api/Bio.Seq.Seq-class.html). It is possible to convert the sequence to a string using Python's built in `str` command (e.g., `str(my_sequence)`). Some useful methods of `Seq` object include:\n",
      "\n",
      "* `find`: Find method, like that of a python string\n",
      "* `startswith`: Does the Seq start with the given prefix? \n",
      "* `endswith`: Does the Seq end with the given suffix? \n",
      "* `complement`: Returns the complement sequence \n",
      "* `reverse_complement`: Returns the reverse complement sequence. \n",
      "* `transcribe`: Returns the RNA sequence from a DNA sequence \n",
      "* `back_transcribe`: Returns the DNA sequence from a RNA sequence \n",
      "* `translate`: Turns a nucleotide sequence into a protein sequence. \n",
      "\n",
      "Now let us look at a few simple sequence operations. "
     ]
    },
    {
     "cell_type": "code",
     "collapsed": false,
     "input": [
      "from Bio.Seq import Seq \n",
      "\n",
      "# working with sequences \n",
      "my_seq = Seq(\"AGTACACTGGT\") \n",
      "print \"sequence: AGTACACTGGT\" \n",
      "print \"complement: \" + my_seq.complement() \n",
      "print \"reverse complement: \" + my_seq.reverse_complement()\n",
      "print \"transcribe: \" + my_seq.transcribe() # my_rna = my_seq.transcribe()\n",
      "print \"my_seq[2:4]: \" + my_seq[2:4]\n",
      "my_rna = my_seq.transcribe()\n",
      "my_dna = my_rna.back_transcribe() "
     ],
     "language": "python",
     "metadata": {},
     "outputs": [
      {
       "output_type": "stream",
       "stream": "stdout",
       "text": [
        "sequence: AGTACACTGGT\n",
        "complement: TCATGTGACCA\n",
        "reverse complement: ACCAGTGTACT\n",
        "transcribe: AGUACACUGGU\n",
        "my_seq[2:4]: TA\n"
       ]
      }
     ],
     "prompt_number": 2
    },
    {
     "cell_type": "markdown",
     "metadata": {},
     "source": [
      "In the above example, we converted a simple string in Python to a sequence object, which allowed used to directly call built in functions of the `Seq` class. We could call these methods directly as well (e.g., `transcribe(\"AGTACACTGGT\")`). Also, we did not specify an Alphabet. BioPython provides generic alphabets in `Bio.Alphabet`. Specifying an alphabet can be useful for catching errors in a sequence, or specifying a particular type of sequence. "
     ]
    },
    {
     "cell_type": "code",
     "collapsed": false,
     "input": [
      "from Bio.Alphabet import generic_rna,generic_dna \n",
      "messenger_rna = Seq(\"AUGGCCAUUGUAAUGGGCCGCUGAAAGGGUGCCCGAUAG\", generic_rna) \n",
      "messenger_rna.translate() "
     ],
     "language": "python",
     "metadata": {},
     "outputs": [
      {
       "metadata": {},
       "output_type": "pyout",
       "prompt_number": 3,
       "text": [
        "Seq('MAIVMGR*KGAR*', HasStopCodon(ExtendedIUPACProtein(), '*'))"
       ]
      }
     ],
     "prompt_number": 3
    },
    {
     "cell_type": "markdown",
     "metadata": {},
     "source": [
      "GC content is a commonly used statistic to quantify a sequence. It is measured as the percentage of nucleotides from either guanine or cytosine.  More formally, the GC-content of a sequence is given by: \n",
      "$$\n",
      " \\textrm{GC-content} = 100\\times\\frac{N_G + N_C}{N_G + N_C + N_A + N_T}\n",
      "$$\n",
      "where $N_G$, $N_C$, $N_A$, and $N_T$ are the counts for the nucleotides *G*, *C*, *A* and *T*, respectively. BioPython allows you to perform this calcuation using either `GC` or `GC123`. Note that `GC` simply calculates the GC-content; however, `CG123` calculates total GC-content plus first, second and third positions' GC-content. Let us also take a moment to examine how to create plots with IPython and Python. If you're using the Python interpreter than you must use `from matplotlib.pylab import *`. "
     ]
    },
    {
     "cell_type": "code",
     "collapsed": false,
     "input": [
      "from Bio.Seq import Seq \n",
      "from Bio.SeqUtils import GC123,GC,GC_skew\n",
      "seq = \"ataccaggctgaggcccattaatgatgcaatttgctgggcttctctattttctccgtgcttccatcctcttctccgtcggcggggagaagtgaaatgccgtggagatgggcggcggcggcggcgacggcggcgacgagaaagctcaccgggatctctcagtcgcgagtttcagtagcctttaccggccgtcttctctaccgctcgttcggaagcgactccagtgaaagccgcaagaggtcactgccacggggggtcgtatcgatcggggccatcagccttgctggaggtctcgtgctcagcgccgtcaacgacctcgccatcttcaatggatgcacaacgaaggcaattgagcatgctgctgacaaccctgctgttgtggaagcaattggagtgcctatagtcagaggaccgtggtatgatgcttctcttgaggtgggccatcgacggcggtctgtgtcatgcacattccctgtatctgggccacatgggtcaggatttctccagattaaggcaacccgagatggagaggatggtctgctttcgtttctgcggcatcacgactggaagatcctattgctggaggctcatcttgaagcaccatcagatgatgaggaccagagaaagctggttaaggtgaatcttgcaagcagtggccgtggggaagatggggatccagagagtggttaatcttttgtactgaattccatggtgagtggaagatcgtgtcatctgaatggactccaaatattaaatgacatggagatctagggaagcaaaaaaaaaaaaaaaa\"\n",
      "print GC123(seq)\n",
      "print GC(seq)\n",
      "\n",
      "plot(GC_skew(seq, window=100),c=\"r\")\n",
      "xlabel(\"Window\")\n",
      "ylabel(\"(G-C)/(G+C)\")\n",
      "title(\"GC-skew\")"
     ],
     "language": "python",
     "metadata": {},
     "outputs": [
      {
       "output_type": "stream",
       "stream": "stdout",
       "text": [
        "(52.97092288242731, 51.89393939393939, 57.57575757575758, 49.42965779467681)\n",
        "52.9709228824\n"
       ]
      },
      {
       "metadata": {},
       "output_type": "pyout",
       "prompt_number": 4,
       "text": [
        "<matplotlib.text.Text at 0x10c62c7d0>"
       ]
      },
      {
       "metadata": {},
       "output_type": "display_data",
       "png": "[encoded data removed]",
       "text": [
        "<matplotlib.figure.Figure at 0x10a7c4b50>"
       ]
      }
     ],
     "prompt_number": 4
    },
    {
     "cell_type": "markdown",
     "metadata": {},
     "source": [
      "We can also go directly from DNA to amino acids using the `translate` command."
     ]
    },
    {
     "cell_type": "code",
     "collapsed": false,
     "input": [
      "print \"translate: \" + Seq(seq).translate() # my_rna = my_seq.transcribe()"
     ],
     "language": "python",
     "metadata": {},
     "outputs": [
      {
       "output_type": "stream",
       "stream": "stdout",
       "text": [
        "translate: IPG*GPLMMQFAGLLYFLRASILFSVGGEK*NAVEMGGGGGDGGDEKAHRDLSVASFSSLYRPSSLPLVRKRLQ*KPQEVTATGGRIDRGHQPCWRSRAQRRQRPRHLQWMHNEGN*ACC*QPCCCGSNWSAYSQRTVV*CFS*GGPSTAVCVMHIPCIWATWVRISPD*GNPRWRGWSAFVSAASRLEDPIAGGSS*STIR**GPEKAG*GESCKQWPWGRWGSREWLIFCTEFHGEWKIVSSEWTPNIK*HGDLGKQKKKK\n"
       ]
      }
     ],
     "prompt_number": 6
    },
    {
     "cell_type": "markdown",
     "metadata": {},
     "source": [
      "Refer to the documentation and [cookbook](http://biopython.org/DIST/docs/tutorial/Tutorial.html#sec17) for BioPython to view more of the sequence tools. "
     ]
    },
    {
     "cell_type": "markdown",
     "metadata": {},
     "source": [
      "# Basic FileIO\n",
      "\n",
      "Different tools in bioinformatics use different standards for containing thier data. For example, GenBank, Fasta, and Biom are all file formats used to storge biological data. BioPython contains several builtin modules for interfacing with theses different file formats using the `SeqIO` class. In this section, we examine converting between file formats as well as manipulating the variables in the `SeqIO` class. \n",
      "\n",
      "Let us take a moment to talk about the `SeqRecord` object in BioPython. We learned that sequences in BioPython are stored in a a `Seq` object, which contained some handy functions such as `translation`. We can create a more detailed record that contains a seqence ID, name, the raw sequence, etc. Such a more detailed stucture can be found in the `SeqRecord` class. `SeqRecord` contains a sequence (as a `Seq` object) with identifiers (ID and name), description and optionally annotation and sub-features. The `SeqIO` system will only return `SeqRecord` objects.\n",
      "\n",
      "**Quick Python Note**\n",
      "```python\n",
      "A = []\n",
      "for x in range(5):\n",
      "  A.append(x**2)\n",
      " \n",
      "B = [x**2 for x in range(5)]\n",
      "# A and B are are identical (I use this condensed notation) \n",
      "```\n",
      "\n",
      "`SeqIO` contains a `parse` function that can readily handle GenBank and Fasta formats. We have a fasta file in `../data` that looks like:\n",
      "```\n",
      ">gi|2765658|emb|Z78533.1|CIZ78533 C.irapeanum 5.8S rRNA gene and ITS1 and ITS2 DNA\n",
      "CGTAACAAGGTTTCCGTAGGTGAACCTGCGGAAGGATCATTGATGAGACCGTGGAATAAACGATCGAGTG\n",
      "AATCCGGAGGACCGGTGTACTCAGCTCACCGGGGGCATTGCTCCCGTGGTGACCCTGATTTGTTGTTGGG\n",
      "CCGCCTCGGGAGCGTCCATGGCGGGTTTGAACCTCTAGCCCGGCGCAGTTTGGGCGCCAAGCCATATGAA\n",
      "...\n",
      "\n",
      ">gi|2765657|emb|Z78532.1|CCZ78532 C.californicum 5.8S rRNA gene and ITS1 and ITS2 DNA\n",
      "CGTAACAAGGTTTCCGTAGGTGAACCTGCGGAAGGATCATTGTTGAGACAACAGAATATATGATCGAGTG\n",
      "AATCTGGAGGACCTGTGGTAACTCAGCTCGTCGTGGCACTGCTTTTGTCGTGACCCTGCTTTGTTGTTGG\n",
      "...\n",
      "```\n",
      "which contains 94 sequences, or *records*. We can read in the iterable set of sequence records into a dictionary with the key being the `id` and the value being the sequence. In code this translates to: "
     ]
    },
    {
     "cell_type": "code",
     "collapsed": false,
     "input": [
      "from Bio import SeqIO\n",
      "\n",
      "# we can parse the fasta file and read the sequences in by looping over \n",
      "# the iterator returned by SeqIO.parse()\n",
      "sequences = {}  # empty dictionary \n",
      "for seq_record in SeqIO.parse(\"../data/ls_orchid.fasta\", \"fasta\"):\n",
      "    sequences[seq_record.id] = seq_record.seq\n",
      "\n",
      "# an alternative way to do this can be done with one line of code\n",
      "sequences2 = {s.id:s.seq for s in SeqIO.parse(\"../data/ls_orchid.fasta\", \"fasta\")}\n",
      "\n",
      "print sequences2.keys()[0]\n",
      "print sequences2[sequences2.keys()[0]]  # print the first sequence "
     ],
     "language": "python",
     "metadata": {},
     "outputs": [
      {
       "output_type": "stream",
       "stream": "stdout",
       "text": [
        "gi|2765596|emb|Z78471.1|PDZ78471\n",
        "CGTAACAAGGTTTCCGTAGGTGAACCTGCGGAAGGATCATTGTTGAGATCACATAATAATTGATCGAGTTAATCTAGAGGATCGGTTTACTTTGGTCACCCATGGGCATCTGCTCTTACAGTGACCTGGATTTGCCATCGAGCCTCCTTGGGAGCTGTCTTGCTGGCGATCTAAATCGTTGCCCGACGCAGCCTTGCGTCAAGTCACCCCGACACATAATGGAAGGGGGCGGCATGCTGCCTTGACCCTTCCCCAAATTAATTTTTTGACAACTCTCAACATCGGATATCTCGGCTCTTGCATCGATGAAGAACGCAGCGAAATGCGATAAATGGTGTGAATTGCAGAATCCCGTGAACCATCGAGTCTTTGAACGCAAGTTGCGCCCGAGGCCATCAGGCCAAGGGCACGCCTGCTTGGGCATTGCGAGTCATATCTCTCCCTTAATGAGGCTGTCCATACATACTGTTCAGCCAGTGCGGATGTGAGTTTGGCCCCTTGTTCTTTAGTACGGGGGGTCTAAAAGCTGCATGGGCTTTTGCTGGTCCTAAATACGGCAAGAGGTGGACAAAGTATGCTACAACAAAATTGTAGTGCGAATGCCCCGGGTTGTCGTATTAGATGGGCCAGCATAATTTAAAGACCCTTTTGAACCCCATTAGAGGCCCATCAACCCTGATCAGTTGATGGCCATTTGGTTGCGACCCCAAGTCAGGTGAGGCAACCCGCTGAGTTTAAGC\n"
       ]
      }
     ],
     "prompt_number": 7
    },
    {
     "cell_type": "markdown",
     "metadata": {},
     "source": [
      "We can also read in Genbank files as well."
     ]
    },
    {
     "cell_type": "code",
     "collapsed": false,
     "input": [
      "# simple conversion from GB to a fasta file\n",
      "records = SeqIO.parse(\"../data/ls_orchid_full.gbk\", \"genbank\")\n",
      "count = SeqIO.write(records, \"../data/my_example.fasta\", \"fasta\")\n",
      "\n",
      "# read in the sequences from the GB file. note that this is nearly identical to when we \n",
      "# performed this task with the fasta file in the previous code block\n",
      "sequences = {s.id:s.seq for s in SeqIO.parse(\"../data/ls_orchid_full.gbk\", \"genbank\")}\n",
      "\n",
      "record = SeqIO.read(\"../data/ls_orchid.gbk\", 'genbank')\n",
      "print \"locus = \" + record.name\n",
      "print \"definition = \" + record.description\n",
      "print \"version = \" + record.id\n",
      "print \"seq = \" + record.seq "
     ],
     "language": "python",
     "metadata": {},
     "outputs": [
      {
       "output_type": "stream",
       "stream": "stdout",
       "text": [
        "locus = Z78533\n",
        "definition = C.irapeanum 5.8S rRNA gene and ITS1 and ITS2 DNA.\n",
        "version = Z78533.1\n",
        "seq = CGTAACAAGGTTTCCGTAGGTGAACCTGCGGAAGGATCATTGATGAGACCGTGGAATAAACGATCGAGTGAATCCGGAGGACCGGTGTACTCAGCTCACCGGGGGCATTGCTCCCGTGGTGACCCTGATTTGTTGTTGGGCCGCCTCGGGAGCGTCCATGGCGGGTTTGAACCTCTAGCCCGGCGCAGTTTGGGCGCCAAGCCATATGAAAGCATCACCGGCGAATGGCATTGTCTTCCCCAAAACCCGGAGCGGCGGCGTGCTGTCGCGTGCCCAATGAATTTTGATGACTCTCGCAAACGGGAATCTTGGCTCTTTGCATCGGATGGAAGGACGCAGCGAAATGCGATAAGTGGTGTGAATTGCAAGATCCCGTGAACCATCGAGTCTTTTGAACGCAAGTTGCGCCCGAGGCCATCAGGCTAAGGGCACGCCTGCTTGGGCGTCGCGCTTCGTCTCTCTCCTGCCAATGCTTGCCCGGCATACAGCCAGGCCGGCGTGGTGCGGATGTGAAAGATTGGCCCCTTGTGCCTAGGTGCGGCGGGTCCAAGAGCTGGTGTTTTGATGGCCCGGAACCCGGCAAGAGGTGGACGGATGCTGGCAGCAGCTGCCGTGCGAATCCCCCATGTTGTCGTGCTTGTCGGACAGGCAGGAGAACCCTTCCGAACCCCAATGGAGGGCGGTTGACCGCCATTCGGATGTGACCCCAGGTCAGGCGGGGGCACCCGCTGAGTTTACGC\n"
       ]
      }
     ],
     "prompt_number": 9
    },
    {
     "cell_type": "code",
     "collapsed": false,
     "input": [
      "%%bash \n",
      "cat ../data/my_example.fasta | head -20"
     ],
     "language": "python",
     "metadata": {},
     "outputs": [
      {
       "output_type": "stream",
       "stream": "stdout",
       "text": [
        ">Z78533.1 C.irapeanum 5.8S rRNA gene and ITS1 and ITS2 DNA.\n",
        "CGTAACAAGGTTTCCGTAGGTGAACCTGCGGAAGGATCATTGATGAGACCGTGGAATAAA\n",
        "CGATCGAGTGAATCCGGAGGACCGGTGTACTCAGCTCACCGGGGGCATTGCTCCCGTGGT\n",
        "GACCCTGATTTGTTGTTGGGCCGCCTCGGGAGCGTCCATGGCGGGTTTGAACCTCTAGCC\n",
        "CGGCGCAGTTTGGGCGCCAAGCCATATGAAAGCATCACCGGCGAATGGCATTGTCTTCCC\n",
        "CAAAACCCGGAGCGGCGGCGTGCTGTCGCGTGCCCAATGAATTTTGATGACTCTCGCAAA\n",
        "CGGGAATCTTGGCTCTTTGCATCGGATGGAAGGACGCAGCGAAATGCGATAAGTGGTGTG\n",
        "AATTGCAAGATCCCGTGAACCATCGAGTCTTTTGAACGCAAGTTGCGCCCGAGGCCATCA\n",
        "GGCTAAGGGCACGCCTGCTTGGGCGTCGCGCTTCGTCTCTCTCCTGCCAATGCTTGCCCG\n",
        "GCATACAGCCAGGCCGGCGTGGTGCGGATGTGAAAGATTGGCCCCTTGTGCCTAGGTGCG\n",
        "GCGGGTCCAAGAGCTGGTGTTTTGATGGCCCGGAACCCGGCAAGAGGTGGACGGATGCTG\n",
        "GCAGCAGCTGCCGTGCGAATCCCCCATGTTGTCGTGCTTGTCGGACAGGCAGGAGAACCC\n",
        "TTCCGAACCCCAATGGAGGGCGGTTGACCGCCATTCGGATGTGACCCCAGGTCAGGCGGG\n",
        "GGCACCCGCTGAGTTTACGC\n",
        ">Z78532.1 C.californicum 5.8S rRNA gene and ITS1 and ITS2 DNA.\n",
        "CGTAACAAGGTTTCCGTAGGTGAACCTGCGGAAGGATCATTGTTGAGACAACAGAATATA\n",
        "TGATCGAGTGAATCTGGAGGACCTGTGGTAACTCAGCTCGTCGTGGCACTGCTTTTGTCG\n",
        "TGACCCTGCTTTGTTGTTGGGCCTCCTCAAGAGCTTTCATGGCAGGTTTGAACTTTAGTA\n",
        "CGGTGCAGTTTGCGCCAAGTCATATAAAGCATCACTGATGAATGACATTATTGTCAGAAA\n",
        "AAATCAGAGGGGCAGTATGCTACTGAGCATGCCAGTGAATTTTTATGACTCTCGCAACGG\n"
       ]
      }
     ],
     "prompt_number": 10
    },
    {
     "cell_type": "markdown",
     "metadata": {},
     "source": [
      "# Accessing the Entrez Database\n",
      "\n",
      "We can also search...."
     ]
    },
    {
     "cell_type": "code",
     "collapsed": false,
     "input": [
      "from Bio import Entrez \n",
      "from Bio.SeqRecord import SeqRecord\n",
      "\n",
      "terms = [\"cytochrome oxidase i AND viridiplantae[Organism] and 100:2000[Sequence Length]\",\n",
      "         \"cytochrome oxidase i AND fungi[Organism] and 100:2000[Sequence Length]\",\n",
      "         \"cytochrome oxidase i AND animalia[Organism] and 100:2000[Sequence Length]\"\n",
      "         ]\n",
      "Entrez.email = \"gregscodeisdone@gmail.com\"   # you should put your email in here!"
     ],
     "language": "python",
     "metadata": {},
     "outputs": [],
     "prompt_number": 12
    },
    {
     "cell_type": "code",
     "collapsed": false,
     "input": [
      "top_records = []\n",
      "for term in terms:  # I could do this in 1 line if I wanted to!\n",
      "    handle = Entrez.esearch(db=\"nucleotide\", term=term)\n",
      "    top_records.append(Entrez.read(handle)[\"IdList\"][0])\n",
      "\n",
      "handle = Entrez.efetch(db=\"nucleotide\", id=\",\".join(top_records), rettype=\"gb\", retmode=\"xml\")\n",
      "genbank_records = Entrez.read(handle)\n",
      "print \"First Genbank record keys: \" + str(genbank_records[0].keys())\n",
      "print \"\" \n",
      "print \"First Genbank sequence (\" + genbank_records[0][\"GBSeq_primary-accession\"] + \"): \" + genbank_records[0][\"GBSeq_sequence\"]"
     ],
     "language": "python",
     "metadata": {},
     "outputs": [
      {
       "output_type": "stream",
       "stream": "stdout",
       "text": [
        "First Genbank record keys: [u'GBSeq_moltype', u'GBSeq_source', u'GBSeq_sequence', u'GBSeq_primary-accession', u'GBSeq_definition', u'GBSeq_accession-version', u'GBSeq_topology', u'GBSeq_length', u'GBSeq_feature-table', u'GBSeq_create-date', u'GBSeq_other-seqids', u'GBSeq_division', u'GBSeq_taxonomy', u'GBSeq_comment', u'GBSeq_references', u'GBSeq_update-date', u'GBSeq_organism', u'GBSeq_locus', u'GBSeq_keywords', u'GBSeq_strandedness']\n",
        "\n",
        "First Genbank sequence (XM_006298266): atgttatacttacaaaacagagaagatgatcaaattccaaaaaaatctcacctaagaatatatgaaaaaccccagacacatgagaagaagagaaagcagcggagagcgatcgaaggtaaatcttcaaaccggaaaaaaagaaatctaaatgttgttggctgcaaaacccaaaaccctacagatcttcgcgaatctcgcagctccgggtcgaatcagcggttcgggtcaaattcgtcggagattcacctgagcaaaatgttcgcgaggcggttcacttctttcttcaaaggatcatcatcaacctcaagctcggacaaagctgggacgttgggctcttttggtcggaaggcagtgtctttcgtcttgattacagtcactggtggtgttgctttgagtgctcttgatgacctttctatctaccgtggatgtagcagcaaggcgatggagaaggtgatgaatagcaaggcgatgattgaagccattggagagccaattgagaaagggccatggtacaatgcttcactagctgtttctcaacaaaggcactcagtgtcttgttcattccctgtgattggaccacaaggcagcggaatcttacatctcaaagctgttcgcaatggagaagatagcatgttcggttttctccagcaacgggactgggacattcttataatggacgcacttgtccatgtcccgtcaaacgaaggaccccaacaaaccttgagaatcaacgtttctaacatgcttgatcctccccctgttaccgaagataaaccttccaaaccacaagagccagagaagagctgaaaaaaagagagagaacacttagtcgtggagatcctggctagtggctagggttttatttcattccattatatcttgtgtcttgtgaagcaacagagatttgttactaataatgaacacttatttaggattatacaaaaagttgaatacgtgattggtaataaataacagcattgctctttatgttttcacataattatatgttttacgtgtttgttaataaattacgtgacaatggtcaca\n"
       ]
      }
     ],
     "prompt_number": 13
    },
    {
     "cell_type": "code",
     "collapsed": false,
     "input": [
      "for record in genbank_records:\n",
      "    print record['GBSeq_primary-accession']"
     ],
     "language": "python",
     "metadata": {},
     "outputs": [
      {
       "output_type": "stream",
       "stream": "stdout",
       "text": [
        "XM_006298266\n",
        "XM_009157553\n",
        "KM036507\n"
       ]
      }
     ],
     "prompt_number": 9
    },
    {
     "cell_type": "code",
     "collapsed": false,
     "input": [
      "fasta_records = []\n",
      "for record in genbank_records:\n",
      "    seq_record = SeqRecord(Seq(record[\"GBSeq_sequence\"]), id=record[\"GBSeq_primary-accession\"], description=record[\"GBSeq_definition\"])\n",
      "    fasta_records.append(seq_record)"
     ],
     "language": "python",
     "metadata": {},
     "outputs": [],
     "prompt_number": 13
    },
    {
     "cell_type": "code",
     "collapsed": false,
     "input": [
      "with open(\"../data/my_seqs.fa\",\"w\") as fasta_file:\n",
      "    SeqIO.write(fasta_records, fasta_file, \"fasta\")"
     ],
     "language": "python",
     "metadata": {},
     "outputs": [],
     "prompt_number": 14
    },
    {
     "cell_type": "code",
     "collapsed": false,
     "input": [
      "%%bash \n",
      "cat ../data/my_seqs.fa"
     ],
     "language": "python",
     "metadata": {},
     "outputs": [
      {
       "output_type": "stream",
       "stream": "stdout",
       "text": [
        ">KC016094 UNVERIFIED: Allium sphaerocephalon cytochrome oxidase subunit 2-like (cox2) gene, partial sequence; mitochondrial\n",
        "ctttattcccacattagataccagaatagttattgcacgtatgtgtaacgccagtatatt\n",
        "aattgcgaaggttgctaagctaatcctaatcaggcaacgagtctttcaggagttctggac\n",
        "acctacgggagttgaggaagtaatcatggctgaacaaagggaggaatgttgccaataagg\n",
        "tctctgtctgctgtatgcatatggctatccttctttctctgggatgcgggatacgtttca\n",
        "ctgtccatgaaggaagaaaccactcgaccaagggagaggtggtttgcccggcatggtact\n",
        "gattgttaacgagattgattattcacgctctgcttattgagatcttgggtttcttcccca\n",
        "gtatattaattgccggattttccggtgttttacttagctgaacagcactagctccttctc\n",
        "tcatgccaaatccaagtcatttagcctagatagcacggggaagaggatcagaccattcat\n",
        "taactccgctaattcaagttctgttcactctcgctacgcacctgagaactataagaaaat\n",
        "aattcgctacctcccgctcacaattaatatactggcgccttgttctccacgccattcatt\n",
        "cccctggtaaataattctacgagatcgatgtgttaagcatagtgtctctgtctccaaatc\n",
        "cgtatcaaccactgcgactctcgctaggatttctattctgaactaatatactgggagctg\n",
        "cgatattgagaatgtgagtcttgctgcaaagcagatgaactacctaactaaactaaggga\n",
        "aggggaagaagggtcaaacacctgacatgactaagcgctagggagactcgctacgcacct\n",
        "gcaccctctgctgcttaccaaattcttagggccgtggtgaactggtcgtcctataccttc\n",
        "tgcctatctcatgtgtgtggaaccaggtctttttcggttccagcttaactttcagtaggg\n",
        "gtgagaaacgccaacctcccctgttgcctattagtaagcggccccaatagtattactcaa\n",
        "acccagtataaacagaaatataaaaaatagaaaaatatagcaaatataaaaaataaaaaa\n",
        "ctctgagaactacctaactaaagaagaatagtgctttttctatgattattcagctagtag\n",
        "gcgtggagagctttttgcggggaaacttgcaagtcaagtttggggggaggcgggcgtcga\n",
        "cccaaccttatgagtattcagactataacagtttcgatgaccagtcactcacttttgaca\n",
        "gttatatgattccataggatgatccagaattgggtcaatcatgtttattagaagtggaca\n",
        "atagagtggctgtaccagccaaaactcatgtatgtatgattgtaacacccgctgatgtac\n",
        "ctcatagttgggctgtaccttctt\n",
        ">KF528054 Uredo rolliniae isolate 189 cytochrome oxidase subunit 3 gene, partial cds; mitochondrial\n",
        "gtagagggtggtggttatggggtagcactaggttttgtaagcacagtaggtgtaataagt\n",
        "ctatgatttagggatgtaagtgcagaggggtcgctaggggggtatcatacgtttgatgtt\n",
        "caacgttctctaaatatgggggtagtactatttattgtaagtgagatctttatttttgta\n",
        "tcaattttttgagcttattttcattcagctctaagtcctacggtagagctaggttctcag\n",
        "tggccggcaccaggtgtagagccactgaatgcatttgagattccacttctaaatacgatt\n",
        "ctgcttctaacctcagcgagctcactaacttatgcacaccatgctctaattaatgggaat\n",
        "aggaagtcatgtctaattggttttgcggtgactctagcactggcagtaacttttacaggg\n",
        "tttcaagcactagagtatattgaggcaccttttacaatttcagatggggcatttggtagt\n",
        "acttttttctttagtacaggttctcatgggatgcacgtaattattgggacgatttttcta\n",
        "acagtagcactagctcgaattattagttaccaactaacagaccaccaccatctaggtttt\n",
        "gaggctgcagcactgtattgacattttgttgatgttgtttga\n",
        ">KF802856 Aspidiotus nerii isolate D0530E cytochrome oxidase subunit 1 (CO1) and cytochrome oxidase subunit 2 (CO2) genes, partial cds; mitochondrial\n",
        "aataatttatcaactttaggatcaataataacaattatatttatttttatatttttttat\n",
        "tcaattattgaacttttaatttcaaaacgaaaaattattattattattaaatctaataat\n",
        "aatgaatgaaaaaataatttaccaactctttctcattcaaatattgaaaataattttata\n",
        "ttcaataaaaattaaattatatcatgaataaacctaaattttcaaaaccctaattcaatc\n",
        "aatataattaaaattagaatatttcataattttatattaattattttaattaatattatt\n",
        "ataattttaattttaataattaatttttcttttattaataaatttaataataaaataatt\n",
        "ttacaaaatcaaaaattagaaatcttatgaacaattattcccataattatcattattata\n",
        "attagaataatttcaattaatttattattttcaaataatgaaataaaaaataatatttta\n",
        "aatattaaaatcattggtaatcaatgattttgaaattatgaatactcattatttaacaaa\n",
        "aactttaattcatatttattaataaataataattttaatttttttatattagaaacagat\n",
        "aataattttattattccttttaattatcaattaatacttattttttcatctttagatgtt\n",
        "attcattcttgaaccattccatcaataaatattaaaatag\n"
       ]
      }
     ],
     "prompt_number": 15
    },
    {
     "cell_type": "markdown",
     "metadata": {},
     "source": [
      "# BLAST\n",
      "\n",
      "BLAST can be run with BioPython either from using the command line tools -- provided they are installed -- or through the web. In this section, we use the `qblast` from the `Bio.Blast.NCBIWWW` module to call the online version of BLAST. Note that the results would be the same if we were to use the command line tools. As pointed out from the `qblast` documentation, there are three required arguments:\n",
      "\n",
      "* The first argument is the blast program to use for the search, as a lower case string. The options and descriptions of the programs are available at <http://www.ncbi.nlm.nih.gov/BLAST/blast_program.shtml>. Currently `qblast` only works with blastn, blastp, blastx, tblast and tblastx.\n",
      "* The second argument specifies the database in which to perform the search. Again, the options for this are available on the NCBI web pages at <http://www.ncbi.nlm.nih.gov/BLAST/blast_databases.shtml>. \n",
      "* The third argument is a string containing your query sequence. This can either be the sequence itself, the sequence in fasta format, or an identifier like a GI number. \n",
      "\n",
      "The default output format for `qblast` is XML; however, we shall use other methods in BioPython to convert the results in the XML file to a more interpretable and managable output. "
     ]
    },
    {
     "cell_type": "code",
     "collapsed": false,
     "input": [
      "from Bio.Blast import NCBIWWW, NCBIXML\n",
      "\n",
      "E_VALUE_THRESH = 0.01\n",
      "s_len = 100\n",
      "\n",
      "# search against the nucleotide database (nt) using BLASTN, and you know the GI number \n",
      "result_handle = NCBIWWW.qblast(\"blastn\", \"nt\", \"8332116\") # 449020131, 8332116\n",
      "blast_records = NCBIXML.read(result_handle) \n",
      "\n",
      "for alignment in blast_records.alignments[:5]:\n",
      "    for hsp in alignment.hsps: \n",
      "        if hsp.expect < E_VALUE_THRESH: \n",
      "            print \"****Alignment****\"\n",
      "            print \"sequence:\", alignment.title \n",
      "            print \"length:\", alignment.length \n",
      "            print \"e value:\", hsp.expect \n",
      "            print hsp.query[0:s_len] + \"...\" \n",
      "            print hsp.match[0:s_len] + \"...\" \n",
      "            print hsp.sbjct[0:s_len] + \"...\" \n",
      " "
     ],
     "language": "python",
     "metadata": {},
     "outputs": [
      {
       "output_type": "stream",
       "stream": "stdout",
       "text": [
        "****Alignment****\n",
        "sequence: gi|568824607|ref|XM_006466626.1| PREDICTED: Citrus sinensis cold-regulated 413 plasma membrane protein 2-like (LOC102620025), transcript variant X5, mRNA\n",
        "length: 878\n",
        "e value: 4.20976e-99\n",
        "AAATGGGGAGAGAAATGAAGTACTTGGCCATGAAAACTGATCAATTGGCCGTGGCTAATATGATCGATTCCGATATCAATGAGCTTAAAATGGCAACAAT...\n",
        "|||||||||||    |||| || ||||| |||||||||||| |   ||  |  ||  |  |||||   || ||| ||||||||||||| || ||  ||| ...\n",
        "AAATGGGGAGAT---TGAATTATTTGGCTATGAAAACTGATGATCAGGTTGCAGCAGAGTTGATCAGCTCTGATTTCAATGAGCTTAAGATTGCTGCAAA...\n",
        "****Alignment****\n",
        "sequence: gi|568824605|ref|XM_006466625.1| PREDICTED: Citrus sinensis cold-regulated 413 plasma membrane protein 2-like (LOC102620025), transcript variant X4, mRNA\n",
        "length: 911\n",
        "e value: 4.20976e-99\n",
        "AAATGGGGAGAGAAATGAAGTACTTGGCCATGAAAACTGATCAATTGGCCGTGGCTAATATGATCGATTCCGATATCAATGAGCTTAAAATGGCAACAAT...\n",
        "|||||||||||    |||| || ||||| |||||||||||| |   ||  |  ||  |  |||||   || ||| ||||||||||||| || ||  ||| ...\n",
        "AAATGGGGAGAT---TGAATTATTTGGCTATGAAAACTGATGATCAGGTTGCAGCAGAGTTGATCAGCTCTGATTTCAATGAGCTTAAGATTGCTGCAAA...\n",
        "****Alignment****\n",
        "sequence: gi|568824603|ref|XM_006466624.1| PREDICTED: Citrus sinensis cold-regulated 413 plasma membrane protein 2-like (LOC102620025), transcript variant X3, mRNA\n",
        "length: 894\n",
        "e value: 4.20976e-99\n",
        "AAATGGGGAGAGAAATGAAGTACTTGGCCATGAAAACTGATCAATTGGCCGTGGCTAATATGATCGATTCCGATATCAATGAGCTTAAAATGGCAACAAT...\n",
        "|||||||||||    |||| || ||||| |||||||||||| |   ||  |  ||  |  |||||   || ||| ||||||||||||| || ||  ||| ...\n",
        "AAATGGGGAGAT---TGAATTATTTGGCTATGAAAACTGATGATCAGGTTGCAGCAGAGTTGATCAGCTCTGATTTCAATGAGCTTAAGATTGCTGCAAA...\n",
        "****Alignment****\n",
        "sequence: gi|568824601|ref|XM_006466623.1| PREDICTED: Citrus sinensis cold-regulated 413 plasma membrane protein 2-like (LOC102620025), transcript variant X2, mRNA\n",
        "length: 922\n",
        "e value: 4.20976e-99\n",
        "AAATGGGGAGAGAAATGAAGTACTTGGCCATGAAAACTGATCAATTGGCCGTGGCTAATATGATCGATTCCGATATCAATGAGCTTAAAATGGCAACAAT...\n",
        "|||||||||||    |||| || ||||| |||||||||||| |   ||  |  ||  |  |||||   || ||| ||||||||||||| || ||  ||| ...\n",
        "AAATGGGGAGAT---TGAATTATTTGGCTATGAAAACTGATGATCAGGTTGCAGCAGAGTTGATCAGCTCTGATTTCAATGAGCTTAAGATTGCTGCAAA...\n",
        "****Alignment****\n",
        "sequence: gi|568824599|ref|XM_006466622.1| PREDICTED: Citrus sinensis cold-regulated 413 plasma membrane protein 2-like (LOC102620025), transcript variant X1, mRNA\n",
        "length: 966\n",
        "e value: 4.20976e-99\n",
        "AAATGGGGAGAGAAATGAAGTACTTGGCCATGAAAACTGATCAATTGGCCGTGGCTAATATGATCGATTCCGATATCAATGAGCTTAAAATGGCAACAAT...\n",
        "|||||||||||    |||| || ||||| |||||||||||| |   ||  |  ||  |  |||||   || ||| ||||||||||||| || ||  ||| ...\n",
        "AAATGGGGAGAT---TGAATTATTTGGCTATGAAAACTGATGATCAGGTTGCAGCAGAGTTGATCAGCTCTGATTTCAATGAGCTTAAGATTGCTGCAAA...\n"
       ]
      }
     ],
     "prompt_number": 16
    },
    {
     "cell_type": "markdown",
     "metadata": {},
     "source": [
      "Similarly, we can directly BLAST our sequence if we have it in the Python environment. BioPython is smart enough to pick up on how the third argument should be interpreted for BLASTing. "
     ]
    },
    {
     "cell_type": "code",
     "collapsed": false,
     "input": [
      "seq = \"ataccaggctgaggcccattaatgatgcaatttgctgggcttctctattttctccgtgcttccatcctcttctccgtcggcggggagaagtgaaatgccgtggagatgggcggcggcggcggcgacggcggcgacgagaaagctcaccgggatctctcagtcgcgagtttcagtagcctttaccggccgtcttctctaccgctcgttcggaagcgactccagtgaaagccgcaagaggtcactgccacggggggtcgtatcgatcggggccatcagccttgctggaggtctcgtgctcagcgccgtcaacgacctcgccatcttcaatggatgcacaacgaaggcaattgagcatgctgctgacaaccctgctgttgtggaagcaattggagtgcctatagtcagaggaccgtggtatgatgcttctcttgaggtgggccatcgacggcggtctgtgtcatgcacattccctgtatctgggccacatgggtcaggatttctccagattaaggcaacccgagatggagaggatggtctgctttcgtttctgcggcatcacgactggaagatcctattgctggaggctcatcttgaagcaccatcagatgatgaggaccagagaaagctggttaaggtgaatcttgcaagcagtggccgtggggaagatggggatccagagagtggttaatcttttgtactgaattccatggtgagtggaagatcgtgtcatctgaatggactccaaatattaaatgacatggagatctagggaagcaaaaaaaaaaaaaaaa \"\n",
      "result_handle = NCBIWWW.qblast(\"blastn\", \"nt\", seq) \n",
      "blast_records = NCBIXML.read(result_handle) \n",
      "\n",
      "for alignment in blast_records.alignments[:5]:\n",
      "    for hsp in alignment.hsps: \n",
      "        if hsp.expect < E_VALUE_THRESH: \n",
      "            print \"****Alignment****\"\n",
      "            print \"sequence:\", alignment.title \n",
      "            print \"length:\", alignment.length \n",
      "            print \"e value:\", hsp.expect \n",
      "            print hsp.query[0:s_len] + \"...\" \n",
      "            print hsp.match[0:s_len] + \"...\" \n",
      "            print hsp.sbjct[0:s_len] + \"...\" \n",
      " "
     ],
     "language": "python",
     "metadata": {},
     "outputs": [
      {
       "output_type": "stream",
       "stream": "stdout",
       "text": [
        "****Alignment****\n",
        "sequence: gi|226505045|ref|NM_001150016.1| Zea mays uncharacterized LOC100276165 (LOC100276165), mRNA >gi|195621403|gb|EU960414.1| Zea mays clone 224719 hypothetical protein mRNA, complete cds\n",
        "length: 791\n",
        "e value: 0.0\n",
        "ATACCAGGCTGAGGCCCATTAATGATGCAATTTGCTGGGCTTCTCTATTTTCTCCGTGCTTCCATCCTCTTCTCCGTCGGCGGGGAGAAGTGAAATGCCG...\n",
        "||||||||||||||||||||||||||||||||||||||||||||||||||||||||||||||||||||||||||||||||||||||||||||||||||||...\n",
        "ATACCAGGCTGAGGCCCATTAATGATGCAATTTGCTGGGCTTCTCTATTTTCTCCGTGCTTCCATCCTCTTCTCCGTCGGCGGGGAGAAGTGAAATGCCG...\n",
        "****Alignment****\n",
        "sequence: gi|242044007|ref|XM_002459830.1| Sorghum bicolor hypothetical protein, mRNA\n",
        "length: 582\n",
        "e value: 0.0\n",
        "CGGCGGCGACGAGAAAGCTCACCGGGATCTCTCAGTCGCGAGTTTCAGTAGCCTTTACCGGCCGTCTTCTCTACCGCTCGTTCGGAAGCGACTCCAGTGA...\n",
        "|||||||| ||||||||||| |||| ||  | |||| |||   | ||| ||||||||||||| |||||||||||||||||||||||||||||||||  | ...\n",
        "CGGCGGCGGCGAGAAAGCTCGCCGGAATGCCCCAGTTGCGCACTCCAGGAGCCTTTACCGGCGGTCTTCTCTACCGCTCGTTCGGAAGCGACTCCATCGG...\n",
        "****Alignment****\n",
        "sequence: gi|514727640|ref|XM_004956214.1| PREDICTED: Setaria italica serine/threonine-protein kinase PBS1-like (LOC101783701), mRNA\n",
        "length: 2391\n",
        "e value: 7.92359e-113\n",
        "GCTCAGCGCCGTCAACGACCTCGCCATCTTCAATGGATGCACAACGAAGGCAATTGAGCATGCTGCTGACAACCCTGCTGTTGTGGAAGCAATTGGAGTG...\n",
        "|||||||||||| |||||||||||||||||| ||||||| ||||| |||||||||||| | || |||||||||||    ||||| |||||||||||||||...\n",
        "GCTCAGCGCCGTTAACGACCTCGCCATCTTCCATGGATGTACAACTAAGGCAATTGAGAAGGCGGCTGACAACCCAAAGGTTGTCGAAGCAATTGGAGTG...\n",
        "****Alignment****\n",
        "sequence: gi|357160261|ref|XM_003578660.1| PREDICTED: Brachypodium distachyon uncharacterized LOC100836817 (LOC100836817), mRNA\n",
        "length: 933\n",
        "e value: 1.43388e-90\n",
        "AAGAGGTCACTGCCACGGGGGGTCGTATCGATCGGGGCCATCAGCCTTGCTGGAGGTCTCGTGCTCAGCGCCGTCAACGACCTCGCCATCTTCAATGGAT...\n",
        "|||||||| | |  |||| ||||| | ||||| || | ||||||||| ||||| ||  |||  ||||| ||| |||||||||||||||||||| ||||||...\n",
        "AAGAGGTCGCCGGTACGGAGGGTCCTGTCGATTGGTGTCATCAGCCTCGCTGGTGGAGTCGCCCTCAGTGCCCTCAACGACCTCGCCATCTTCCATGGAT...\n",
        "****Alignment****\n",
        "sequence: gi|149391396|gb|EF576128.1| Oryza sativa (indica cultivar-group) clone V-E12 unknown mRNA\n",
        "length: 752\n",
        "e value: 1.2578e-78\n",
        "AAGAGGTCACTGCCACGGGGGGTCGTATCGATCGGGGCCATCAGCCTTGCTGGAGGTCTCGTGCTCAGCGCCGTCAACGACCTCGCCATCTTCAATGGAT...\n",
        "|||||||||| |   ||| || |||| ||||| ||||  |||||| | ||||| ||  ||| ||| |||||| |||||||||| || || ||| ||||||...\n",
        "AAGAGGTCACGGATCCGGAGGATCGTGTCGATTGGGGTTATCAGCATCGCTGGCGGCGTCGCGCTTAGCGCCCTCAACGACCTTGCTATATTCCATGGAT...\n"
       ]
      }
     ],
     "prompt_number": 17
    },
    {
     "cell_type": "markdown",
     "metadata": {},
     "source": [
      "# Phylogenetic Trees"
     ]
    },
    {
     "cell_type": "code",
     "collapsed": false,
     "input": [
      "from Bio import Phylo \n",
      "tree = Phylo.read(\"../data/simple.dnd\", \"newick\")\n",
      "print tree\n",
      "Phylo.draw_ascii(tree)\n",
      "tree.rooted = True \n",
      "Phylo.draw(tree) "
     ],
     "language": "python",
     "metadata": {},
     "outputs": [
      {
       "output_type": "stream",
       "stream": "stdout",
       "text": [
        "Tree(rooted=False, weight=1.0)\n",
        "    Clade(branch_length=1.0)\n",
        "        Clade(branch_length=1.0)\n",
        "            Clade(branch_length=1.0)\n",
        "                Clade(branch_length=1.0, name='A')\n",
        "                Clade(branch_length=1.0, name='B')\n",
        "            Clade(branch_length=1.0)\n",
        "                Clade(branch_length=1.0, name='C')\n",
        "                Clade(branch_length=1.0, name='D')\n",
        "        Clade(branch_length=1.0)\n",
        "            Clade(branch_length=1.0, name='E')\n",
        "            Clade(branch_length=1.0, name='F')\n",
        "            Clade(branch_length=1.0, name='G')\n",
        "                                                          __________________ A\n",
        "                                       __________________|\n",
        "                                      |                  |__________________ B\n",
        "                    __________________|\n",
        "                   |                  |                   __________________ C\n",
        "                   |                  |__________________|\n",
        "___________________|                                     |__________________ D\n",
        "                   |\n",
        "                   |                   __________________ E\n",
        "                   |                  |\n",
        "                   |__________________|__________________ F\n",
        "                                      |\n",
        "                                      |__________________ G\n",
        "\n"
       ]
      },
      {
       "metadata": {},
       "output_type": "display_data",
       "png": "[encoded data removed]",
       "text": [
        "<matplotlib.figure.Figure at 0x10a743810>"
       ]
      }
     ],
     "prompt_number": 18
    },
    {
     "cell_type": "code",
     "collapsed": false,
     "input": [
      "from Bio.Phylo.PhyloXML import Phylogeny \n",
      "tree = tree.as_phyloxml() \n",
      "tree = Phylogeny.from_tree(tree)\n",
      "tree.root.color = (128, 128, 128) \n",
      "mrca = tree.common_ancestor({\"name\": \"E\"}, {\"name\": \"F\"}) \n",
      "mrca.color = \"salmon\" \n",
      "tree.clade[0, 1].color = \"blue\" \n",
      "Phylo.draw(tree, branch_labels=lambda c: c.branch_length) \n",
      "Phylo.draw(tree) "
     ],
     "language": "python",
     "metadata": {},
     "outputs": [
      {
       "metadata": {},
       "output_type": "display_data",
       "png": "[encoded data removed]",
       "text": [
        "<matplotlib.figure.Figure at 0x10d8fc8d0>"
       ]
      },
      {
       "metadata": {},
       "output_type": "display_data",
       "png": "[encoded data removed]",
       "text": [
        "<matplotlib.figure.Figure at 0x10d8e8790>"
       ]
      }
     ],
     "prompt_number": 19
    },
    {
     "cell_type": "code",
     "collapsed": false,
     "input": [],
     "language": "python",
     "metadata": {},
     "outputs": []
    }
   ],
   "metadata": {}
  }
 ]
}